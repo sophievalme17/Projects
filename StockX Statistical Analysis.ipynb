{
 "cells": [
  {
   "cell_type": "markdown",
   "id": "897b2ecc",
   "metadata": {},
   "source": [
    "# Performing Statistical Analysis and Visualizations on StockX Data 2019\n",
    "\n",
    "This dataset was obtained from Kaggle.com (https://www.kaggle.com/datasets/hudsonstuck/stockx-data-contest)"
   ]
  },
  {
   "cell_type": "markdown",
   "id": "66ae8710",
   "metadata": {},
   "source": [
    "-------------------------------------------------------------------------------------------------------------\n",
    "Import the pandas package into the notebook. From here you will be able to read the StockX dataset and load it into the pandas dataframe."
   ]
  },
  {
   "cell_type": "code",
   "execution_count": 2,
   "id": "5b002264",
   "metadata": {},
   "outputs": [],
   "source": [
    "import pandas as pd\n",
    "data = pd.read_csv(\"StockXDataContest2019-3.csv\")"
   ]
  },
  {
   "cell_type": "code",
   "execution_count": 3,
   "id": "5e455b77",
   "metadata": {},
   "outputs": [
    {
     "data": {
      "text/html": [
       "<div>\n",
       "<style scoped>\n",
       "    .dataframe tbody tr th:only-of-type {\n",
       "        vertical-align: middle;\n",
       "    }\n",
       "\n",
       "    .dataframe tbody tr th {\n",
       "        vertical-align: top;\n",
       "    }\n",
       "\n",
       "    .dataframe thead th {\n",
       "        text-align: right;\n",
       "    }\n",
       "</style>\n",
       "<table border=\"1\" class=\"dataframe\">\n",
       "  <thead>\n",
       "    <tr style=\"text-align: right;\">\n",
       "      <th></th>\n",
       "      <th>Order Date</th>\n",
       "      <th>Brand</th>\n",
       "      <th>Sneaker Name</th>\n",
       "      <th>Sale Price</th>\n",
       "      <th>Retail Price</th>\n",
       "      <th>Release Date</th>\n",
       "      <th>Shoe Size</th>\n",
       "      <th>Buyer Region</th>\n",
       "    </tr>\n",
       "  </thead>\n",
       "  <tbody>\n",
       "    <tr>\n",
       "      <th>0</th>\n",
       "      <td>9/1/17</td>\n",
       "      <td>Yeezy</td>\n",
       "      <td>Adidas-Yeezy-Boost-350-Low-V2-Beluga</td>\n",
       "      <td>$1,097</td>\n",
       "      <td>$220</td>\n",
       "      <td>9/24/16</td>\n",
       "      <td>11.0</td>\n",
       "      <td>California</td>\n",
       "    </tr>\n",
       "    <tr>\n",
       "      <th>1</th>\n",
       "      <td>9/1/17</td>\n",
       "      <td>Yeezy</td>\n",
       "      <td>Adidas-Yeezy-Boost-350-V2-Core-Black-Copper</td>\n",
       "      <td>$685</td>\n",
       "      <td>$220</td>\n",
       "      <td>11/23/16</td>\n",
       "      <td>11.0</td>\n",
       "      <td>California</td>\n",
       "    </tr>\n",
       "    <tr>\n",
       "      <th>2</th>\n",
       "      <td>9/1/17</td>\n",
       "      <td>Yeezy</td>\n",
       "      <td>Adidas-Yeezy-Boost-350-V2-Core-Black-Green</td>\n",
       "      <td>$690</td>\n",
       "      <td>$220</td>\n",
       "      <td>11/23/16</td>\n",
       "      <td>11.0</td>\n",
       "      <td>California</td>\n",
       "    </tr>\n",
       "    <tr>\n",
       "      <th>3</th>\n",
       "      <td>9/1/17</td>\n",
       "      <td>Yeezy</td>\n",
       "      <td>Adidas-Yeezy-Boost-350-V2-Core-Black-Red</td>\n",
       "      <td>$1,075</td>\n",
       "      <td>$220</td>\n",
       "      <td>11/23/16</td>\n",
       "      <td>11.5</td>\n",
       "      <td>Kentucky</td>\n",
       "    </tr>\n",
       "    <tr>\n",
       "      <th>4</th>\n",
       "      <td>9/1/17</td>\n",
       "      <td>Yeezy</td>\n",
       "      <td>Adidas-Yeezy-Boost-350-V2-Core-Black-Red-2017</td>\n",
       "      <td>$828</td>\n",
       "      <td>$220</td>\n",
       "      <td>2/11/17</td>\n",
       "      <td>11.0</td>\n",
       "      <td>Rhode Island</td>\n",
       "    </tr>\n",
       "    <tr>\n",
       "      <th>5</th>\n",
       "      <td>9/1/17</td>\n",
       "      <td>Yeezy</td>\n",
       "      <td>Adidas-Yeezy-Boost-350-V2-Core-Black-Red-2017</td>\n",
       "      <td>$798</td>\n",
       "      <td>$220</td>\n",
       "      <td>2/11/17</td>\n",
       "      <td>8.5</td>\n",
       "      <td>Michigan</td>\n",
       "    </tr>\n",
       "  </tbody>\n",
       "</table>\n",
       "</div>"
      ],
      "text/plain": [
       "  Order Date   Brand                                   Sneaker Name  \\\n",
       "0     9/1/17   Yeezy           Adidas-Yeezy-Boost-350-Low-V2-Beluga   \n",
       "1     9/1/17   Yeezy    Adidas-Yeezy-Boost-350-V2-Core-Black-Copper   \n",
       "2     9/1/17   Yeezy     Adidas-Yeezy-Boost-350-V2-Core-Black-Green   \n",
       "3     9/1/17   Yeezy       Adidas-Yeezy-Boost-350-V2-Core-Black-Red   \n",
       "4     9/1/17   Yeezy  Adidas-Yeezy-Boost-350-V2-Core-Black-Red-2017   \n",
       "5     9/1/17   Yeezy  Adidas-Yeezy-Boost-350-V2-Core-Black-Red-2017   \n",
       "\n",
       "  Sale Price Retail Price Release Date  Shoe Size  Buyer Region  \n",
       "0     $1,097         $220      9/24/16       11.0    California  \n",
       "1       $685         $220     11/23/16       11.0    California  \n",
       "2       $690         $220     11/23/16       11.0    California  \n",
       "3     $1,075         $220     11/23/16       11.5      Kentucky  \n",
       "4       $828         $220      2/11/17       11.0  Rhode Island  \n",
       "5       $798         $220      2/11/17        8.5      Michigan  "
      ]
     },
     "execution_count": 3,
     "metadata": {},
     "output_type": "execute_result"
    }
   ],
   "source": [
    "data.head(6)"
   ]
  },
  {
   "cell_type": "markdown",
   "id": "9dedbf70",
   "metadata": {},
   "source": [
    "# Pre-processing the Data\n",
    "\n",
    "Check for missing values. This is an important step before cleaning the data because missing values can alter findings of the data. The values can be removed or the mean (average) can be used."
   ]
  },
  {
   "cell_type": "code",
   "execution_count": 4,
   "id": "95b5583f",
   "metadata": {},
   "outputs": [
    {
     "data": {
      "text/html": [
       "<div>\n",
       "<style scoped>\n",
       "    .dataframe tbody tr th:only-of-type {\n",
       "        vertical-align: middle;\n",
       "    }\n",
       "\n",
       "    .dataframe tbody tr th {\n",
       "        vertical-align: top;\n",
       "    }\n",
       "\n",
       "    .dataframe thead th {\n",
       "        text-align: right;\n",
       "    }\n",
       "</style>\n",
       "<table border=\"1\" class=\"dataframe\">\n",
       "  <thead>\n",
       "    <tr style=\"text-align: right;\">\n",
       "      <th></th>\n",
       "      <th>Order Date</th>\n",
       "      <th>Brand</th>\n",
       "      <th>Sneaker Name</th>\n",
       "      <th>Sale Price</th>\n",
       "      <th>Retail Price</th>\n",
       "      <th>Release Date</th>\n",
       "      <th>Shoe Size</th>\n",
       "      <th>Buyer Region</th>\n",
       "    </tr>\n",
       "  </thead>\n",
       "  <tbody>\n",
       "    <tr>\n",
       "      <th>0</th>\n",
       "      <td>False</td>\n",
       "      <td>False</td>\n",
       "      <td>False</td>\n",
       "      <td>False</td>\n",
       "      <td>False</td>\n",
       "      <td>False</td>\n",
       "      <td>False</td>\n",
       "      <td>False</td>\n",
       "    </tr>\n",
       "    <tr>\n",
       "      <th>1</th>\n",
       "      <td>False</td>\n",
       "      <td>False</td>\n",
       "      <td>False</td>\n",
       "      <td>False</td>\n",
       "      <td>False</td>\n",
       "      <td>False</td>\n",
       "      <td>False</td>\n",
       "      <td>False</td>\n",
       "    </tr>\n",
       "    <tr>\n",
       "      <th>2</th>\n",
       "      <td>False</td>\n",
       "      <td>False</td>\n",
       "      <td>False</td>\n",
       "      <td>False</td>\n",
       "      <td>False</td>\n",
       "      <td>False</td>\n",
       "      <td>False</td>\n",
       "      <td>False</td>\n",
       "    </tr>\n",
       "    <tr>\n",
       "      <th>3</th>\n",
       "      <td>False</td>\n",
       "      <td>False</td>\n",
       "      <td>False</td>\n",
       "      <td>False</td>\n",
       "      <td>False</td>\n",
       "      <td>False</td>\n",
       "      <td>False</td>\n",
       "      <td>False</td>\n",
       "    </tr>\n",
       "    <tr>\n",
       "      <th>4</th>\n",
       "      <td>False</td>\n",
       "      <td>False</td>\n",
       "      <td>False</td>\n",
       "      <td>False</td>\n",
       "      <td>False</td>\n",
       "      <td>False</td>\n",
       "      <td>False</td>\n",
       "      <td>False</td>\n",
       "    </tr>\n",
       "    <tr>\n",
       "      <th>...</th>\n",
       "      <td>...</td>\n",
       "      <td>...</td>\n",
       "      <td>...</td>\n",
       "      <td>...</td>\n",
       "      <td>...</td>\n",
       "      <td>...</td>\n",
       "      <td>...</td>\n",
       "      <td>...</td>\n",
       "    </tr>\n",
       "    <tr>\n",
       "      <th>99951</th>\n",
       "      <td>False</td>\n",
       "      <td>False</td>\n",
       "      <td>False</td>\n",
       "      <td>False</td>\n",
       "      <td>False</td>\n",
       "      <td>False</td>\n",
       "      <td>False</td>\n",
       "      <td>False</td>\n",
       "    </tr>\n",
       "    <tr>\n",
       "      <th>99952</th>\n",
       "      <td>False</td>\n",
       "      <td>False</td>\n",
       "      <td>False</td>\n",
       "      <td>False</td>\n",
       "      <td>False</td>\n",
       "      <td>False</td>\n",
       "      <td>False</td>\n",
       "      <td>False</td>\n",
       "    </tr>\n",
       "    <tr>\n",
       "      <th>99953</th>\n",
       "      <td>False</td>\n",
       "      <td>False</td>\n",
       "      <td>False</td>\n",
       "      <td>False</td>\n",
       "      <td>False</td>\n",
       "      <td>False</td>\n",
       "      <td>False</td>\n",
       "      <td>False</td>\n",
       "    </tr>\n",
       "    <tr>\n",
       "      <th>99954</th>\n",
       "      <td>False</td>\n",
       "      <td>False</td>\n",
       "      <td>False</td>\n",
       "      <td>False</td>\n",
       "      <td>False</td>\n",
       "      <td>False</td>\n",
       "      <td>False</td>\n",
       "      <td>False</td>\n",
       "    </tr>\n",
       "    <tr>\n",
       "      <th>99955</th>\n",
       "      <td>False</td>\n",
       "      <td>False</td>\n",
       "      <td>False</td>\n",
       "      <td>False</td>\n",
       "      <td>False</td>\n",
       "      <td>False</td>\n",
       "      <td>False</td>\n",
       "      <td>False</td>\n",
       "    </tr>\n",
       "  </tbody>\n",
       "</table>\n",
       "<p>99956 rows × 8 columns</p>\n",
       "</div>"
      ],
      "text/plain": [
       "       Order Date  Brand  Sneaker Name  Sale Price  Retail Price  \\\n",
       "0           False  False         False       False         False   \n",
       "1           False  False         False       False         False   \n",
       "2           False  False         False       False         False   \n",
       "3           False  False         False       False         False   \n",
       "4           False  False         False       False         False   \n",
       "...           ...    ...           ...         ...           ...   \n",
       "99951       False  False         False       False         False   \n",
       "99952       False  False         False       False         False   \n",
       "99953       False  False         False       False         False   \n",
       "99954       False  False         False       False         False   \n",
       "99955       False  False         False       False         False   \n",
       "\n",
       "       Release Date  Shoe Size  Buyer Region  \n",
       "0             False      False         False  \n",
       "1             False      False         False  \n",
       "2             False      False         False  \n",
       "3             False      False         False  \n",
       "4             False      False         False  \n",
       "...             ...        ...           ...  \n",
       "99951         False      False         False  \n",
       "99952         False      False         False  \n",
       "99953         False      False         False  \n",
       "99954         False      False         False  \n",
       "99955         False      False         False  \n",
       "\n",
       "[99956 rows x 8 columns]"
      ]
     },
     "execution_count": 4,
     "metadata": {},
     "output_type": "execute_result"
    }
   ],
   "source": [
    "data.isnull()"
   ]
  },
  {
   "cell_type": "markdown",
   "id": "31ebd510",
   "metadata": {},
   "source": [
    "-------------------------------------------------------------------------------------------------------------\n",
    "No values were missing, so, the data can actually be pre-processed now. Taking a look at the heading above, it is seen that there are commas and dollar signs which will affect the statistical analysis. These can be removed:"
   ]
  },
  {
   "cell_type": "code",
   "execution_count": 5,
   "id": "02ec7be6",
   "metadata": {
    "scrolled": true
   },
   "outputs": [
    {
     "name": "stdout",
     "output_type": "stream",
     "text": [
      "      Order Date   Brand                                   Sneaker Name  \\\n",
      "0         9/1/17   Yeezy           Adidas-Yeezy-Boost-350-Low-V2-Beluga   \n",
      "1         9/1/17   Yeezy    Adidas-Yeezy-Boost-350-V2-Core-Black-Copper   \n",
      "2         9/1/17   Yeezy     Adidas-Yeezy-Boost-350-V2-Core-Black-Green   \n",
      "3         9/1/17   Yeezy       Adidas-Yeezy-Boost-350-V2-Core-Black-Red   \n",
      "4         9/1/17   Yeezy  Adidas-Yeezy-Boost-350-V2-Core-Black-Red-2017   \n",
      "...          ...     ...                                            ...   \n",
      "99951    2/13/19   Yeezy    adidas-Yeezy-Boost-350-V2-Static-Reflective   \n",
      "99952    2/13/19   Yeezy    adidas-Yeezy-Boost-350-V2-Static-Reflective   \n",
      "99953    2/13/19   Yeezy    adidas-Yeezy-Boost-350-V2-Static-Reflective   \n",
      "99954    2/13/19   Yeezy    adidas-Yeezy-Boost-350-V2-Static-Reflective   \n",
      "99955    2/13/19   Yeezy    adidas-Yeezy-Boost-350-V2-Static-Reflective   \n",
      "\n",
      "      Sale Price Retail Price Release Date  Shoe Size  Buyer Region  \n",
      "0           1097          220      9/24/16       11.0    California  \n",
      "1            685          220     11/23/16       11.0    California  \n",
      "2            690          220     11/23/16       11.0    California  \n",
      "3           1075          220     11/23/16       11.5      Kentucky  \n",
      "4            828          220      2/11/17       11.0  Rhode Island  \n",
      "...          ...          ...          ...        ...           ...  \n",
      "99951        565          220     12/26/18        8.0        Oregon  \n",
      "99952        598          220     12/26/18        8.5    California  \n",
      "99953        605          220     12/26/18        5.5      New York  \n",
      "99954        650          220     12/26/18       11.0    California  \n",
      "99955        640          220     12/26/18       11.5         Texas  \n",
      "\n",
      "[99956 rows x 8 columns]\n"
     ]
    }
   ],
   "source": [
    "colstocheck = data.columns\n",
    "data[colstocheck] = data[colstocheck].replace({'\\$': '', ',': ''}, regex = True)\n",
    "print(data)"
   ]
  },
  {
   "cell_type": "markdown",
   "id": "c635588a",
   "metadata": {},
   "source": [
    "-------------------------------------------------------------------------------------------------------------\n",
    "It's a good idea to change the column names using snake_case, which is a naming convention used to to replace spaces between words with underscores. The purpose of this is to reduce time errors; most programming languages do not allow variables to contain spaces (https://www.theserverside.com/definition/Snake-case)."
   ]
  },
  {
   "cell_type": "code",
   "execution_count": 7,
   "id": "1d504fba",
   "metadata": {},
   "outputs": [
    {
     "data": {
      "text/html": [
       "<div>\n",
       "<style scoped>\n",
       "    .dataframe tbody tr th:only-of-type {\n",
       "        vertical-align: middle;\n",
       "    }\n",
       "\n",
       "    .dataframe tbody tr th {\n",
       "        vertical-align: top;\n",
       "    }\n",
       "\n",
       "    .dataframe thead th {\n",
       "        text-align: right;\n",
       "    }\n",
       "</style>\n",
       "<table border=\"1\" class=\"dataframe\">\n",
       "  <thead>\n",
       "    <tr style=\"text-align: right;\">\n",
       "      <th></th>\n",
       "      <th>order_date</th>\n",
       "      <th>brand</th>\n",
       "      <th>sneaker_name</th>\n",
       "      <th>sale_price</th>\n",
       "      <th>retail_price</th>\n",
       "      <th>release_date</th>\n",
       "      <th>size</th>\n",
       "      <th>state</th>\n",
       "    </tr>\n",
       "  </thead>\n",
       "  <tbody>\n",
       "    <tr>\n",
       "      <th>0</th>\n",
       "      <td>9/1/17</td>\n",
       "      <td>Yeezy</td>\n",
       "      <td>Adidas-Yeezy-Boost-350-Low-V2-Beluga</td>\n",
       "      <td>1097</td>\n",
       "      <td>220</td>\n",
       "      <td>9/24/16</td>\n",
       "      <td>11.0</td>\n",
       "      <td>California</td>\n",
       "    </tr>\n",
       "    <tr>\n",
       "      <th>1</th>\n",
       "      <td>9/1/17</td>\n",
       "      <td>Yeezy</td>\n",
       "      <td>Adidas-Yeezy-Boost-350-V2-Core-Black-Copper</td>\n",
       "      <td>685</td>\n",
       "      <td>220</td>\n",
       "      <td>11/23/16</td>\n",
       "      <td>11.0</td>\n",
       "      <td>California</td>\n",
       "    </tr>\n",
       "    <tr>\n",
       "      <th>2</th>\n",
       "      <td>9/1/17</td>\n",
       "      <td>Yeezy</td>\n",
       "      <td>Adidas-Yeezy-Boost-350-V2-Core-Black-Green</td>\n",
       "      <td>690</td>\n",
       "      <td>220</td>\n",
       "      <td>11/23/16</td>\n",
       "      <td>11.0</td>\n",
       "      <td>California</td>\n",
       "    </tr>\n",
       "    <tr>\n",
       "      <th>3</th>\n",
       "      <td>9/1/17</td>\n",
       "      <td>Yeezy</td>\n",
       "      <td>Adidas-Yeezy-Boost-350-V2-Core-Black-Red</td>\n",
       "      <td>1075</td>\n",
       "      <td>220</td>\n",
       "      <td>11/23/16</td>\n",
       "      <td>11.5</td>\n",
       "      <td>Kentucky</td>\n",
       "    </tr>\n",
       "    <tr>\n",
       "      <th>4</th>\n",
       "      <td>9/1/17</td>\n",
       "      <td>Yeezy</td>\n",
       "      <td>Adidas-Yeezy-Boost-350-V2-Core-Black-Red-2017</td>\n",
       "      <td>828</td>\n",
       "      <td>220</td>\n",
       "      <td>2/11/17</td>\n",
       "      <td>11.0</td>\n",
       "      <td>Rhode Island</td>\n",
       "    </tr>\n",
       "    <tr>\n",
       "      <th>...</th>\n",
       "      <td>...</td>\n",
       "      <td>...</td>\n",
       "      <td>...</td>\n",
       "      <td>...</td>\n",
       "      <td>...</td>\n",
       "      <td>...</td>\n",
       "      <td>...</td>\n",
       "      <td>...</td>\n",
       "    </tr>\n",
       "    <tr>\n",
       "      <th>99951</th>\n",
       "      <td>2/13/19</td>\n",
       "      <td>Yeezy</td>\n",
       "      <td>adidas-Yeezy-Boost-350-V2-Static-Reflective</td>\n",
       "      <td>565</td>\n",
       "      <td>220</td>\n",
       "      <td>12/26/18</td>\n",
       "      <td>8.0</td>\n",
       "      <td>Oregon</td>\n",
       "    </tr>\n",
       "    <tr>\n",
       "      <th>99952</th>\n",
       "      <td>2/13/19</td>\n",
       "      <td>Yeezy</td>\n",
       "      <td>adidas-Yeezy-Boost-350-V2-Static-Reflective</td>\n",
       "      <td>598</td>\n",
       "      <td>220</td>\n",
       "      <td>12/26/18</td>\n",
       "      <td>8.5</td>\n",
       "      <td>California</td>\n",
       "    </tr>\n",
       "    <tr>\n",
       "      <th>99953</th>\n",
       "      <td>2/13/19</td>\n",
       "      <td>Yeezy</td>\n",
       "      <td>adidas-Yeezy-Boost-350-V2-Static-Reflective</td>\n",
       "      <td>605</td>\n",
       "      <td>220</td>\n",
       "      <td>12/26/18</td>\n",
       "      <td>5.5</td>\n",
       "      <td>New York</td>\n",
       "    </tr>\n",
       "    <tr>\n",
       "      <th>99954</th>\n",
       "      <td>2/13/19</td>\n",
       "      <td>Yeezy</td>\n",
       "      <td>adidas-Yeezy-Boost-350-V2-Static-Reflective</td>\n",
       "      <td>650</td>\n",
       "      <td>220</td>\n",
       "      <td>12/26/18</td>\n",
       "      <td>11.0</td>\n",
       "      <td>California</td>\n",
       "    </tr>\n",
       "    <tr>\n",
       "      <th>99955</th>\n",
       "      <td>2/13/19</td>\n",
       "      <td>Yeezy</td>\n",
       "      <td>adidas-Yeezy-Boost-350-V2-Static-Reflective</td>\n",
       "      <td>640</td>\n",
       "      <td>220</td>\n",
       "      <td>12/26/18</td>\n",
       "      <td>11.5</td>\n",
       "      <td>Texas</td>\n",
       "    </tr>\n",
       "  </tbody>\n",
       "</table>\n",
       "<p>99956 rows × 8 columns</p>\n",
       "</div>"
      ],
      "text/plain": [
       "      order_date   brand                                   sneaker_name  \\\n",
       "0         9/1/17   Yeezy           Adidas-Yeezy-Boost-350-Low-V2-Beluga   \n",
       "1         9/1/17   Yeezy    Adidas-Yeezy-Boost-350-V2-Core-Black-Copper   \n",
       "2         9/1/17   Yeezy     Adidas-Yeezy-Boost-350-V2-Core-Black-Green   \n",
       "3         9/1/17   Yeezy       Adidas-Yeezy-Boost-350-V2-Core-Black-Red   \n",
       "4         9/1/17   Yeezy  Adidas-Yeezy-Boost-350-V2-Core-Black-Red-2017   \n",
       "...          ...     ...                                            ...   \n",
       "99951    2/13/19   Yeezy    adidas-Yeezy-Boost-350-V2-Static-Reflective   \n",
       "99952    2/13/19   Yeezy    adidas-Yeezy-Boost-350-V2-Static-Reflective   \n",
       "99953    2/13/19   Yeezy    adidas-Yeezy-Boost-350-V2-Static-Reflective   \n",
       "99954    2/13/19   Yeezy    adidas-Yeezy-Boost-350-V2-Static-Reflective   \n",
       "99955    2/13/19   Yeezy    adidas-Yeezy-Boost-350-V2-Static-Reflective   \n",
       "\n",
       "      sale_price retail_price release_date  size         state  \n",
       "0           1097          220      9/24/16  11.0    California  \n",
       "1            685          220     11/23/16  11.0    California  \n",
       "2            690          220     11/23/16  11.0    California  \n",
       "3           1075          220     11/23/16  11.5      Kentucky  \n",
       "4            828          220      2/11/17  11.0  Rhode Island  \n",
       "...          ...          ...          ...   ...           ...  \n",
       "99951        565          220     12/26/18   8.0        Oregon  \n",
       "99952        598          220     12/26/18   8.5    California  \n",
       "99953        605          220     12/26/18   5.5      New York  \n",
       "99954        650          220     12/26/18  11.0    California  \n",
       "99955        640          220     12/26/18  11.5         Texas  \n",
       "\n",
       "[99956 rows x 8 columns]"
      ]
     },
     "execution_count": 7,
     "metadata": {},
     "output_type": "execute_result"
    }
   ],
   "source": [
    "data.set_axis(['order_date', 'brand', 'sneaker_name','sale_price','retail_price','release_date','size','state'], axis='columns', inplace=True)\n",
    "data"
   ]
  },
  {
   "cell_type": "markdown",
   "id": "a9b1897a",
   "metadata": {},
   "source": [
    "-------------------------------------------------------------------------------------------------------------\n",
    "The last step in the pre-processing phase is to check the data types of the dataset. This is useful for the actual statistical analysis that will be performed."
   ]
  },
  {
   "cell_type": "code",
   "execution_count": 8,
   "id": "567d7ba8",
   "metadata": {},
   "outputs": [
    {
     "data": {
      "text/plain": [
       "order_date       object\n",
       "brand            object\n",
       "sneaker_name     object\n",
       "sale_price       object\n",
       "retail_price     object\n",
       "release_date     object\n",
       "size            float64\n",
       "state            object\n",
       "dtype: object"
      ]
     },
     "execution_count": 8,
     "metadata": {},
     "output_type": "execute_result"
    }
   ],
   "source": [
    "data.dtypes"
   ]
  },
  {
   "cell_type": "markdown",
   "id": "97d01de5",
   "metadata": {},
   "source": [
    "To perform some summary statistics, it is necessary for the 'sale_price', 'retail_price' and 'size' columns to be coverted into float data types to use them as numeric values."
   ]
  },
  {
   "cell_type": "code",
   "execution_count": 9,
   "id": "8f56c682",
   "metadata": {},
   "outputs": [],
   "source": [
    "data['sale_price']= data['sale_price'].astype(float)\n",
    "data['retail_price']= data['retail_price'].astype(float)\n",
    "data['size']=data['size'].astype(float)"
   ]
  },
  {
   "cell_type": "markdown",
   "id": "5a2445e7",
   "metadata": {},
   "source": [
    "-------------------------------------------------------------------------------------------------------------\n",
    "Now that pre-processing is complete, we can start performing some statistical analysis. First, you can find the highest and lowest sale prices per sneaker model."
   ]
  },
  {
   "cell_type": "code",
   "execution_count": 10,
   "id": "a90393ae",
   "metadata": {},
   "outputs": [
    {
     "data": {
      "text/plain": [
       "sneaker_name\n",
       "Adidas-Yeezy-Boost-350-Low-Moonrock                  2000.0\n",
       "Adidas-Yeezy-Boost-350-Low-Oxford-Tan                1470.0\n",
       "Adidas-Yeezy-Boost-350-Low-Pirate-Black-2015         1300.0\n",
       "Adidas-Yeezy-Boost-350-Low-Pirate-Black-2016         1455.0\n",
       "Adidas-Yeezy-Boost-350-Low-Turtledove                2300.0\n",
       "Adidas-Yeezy-Boost-350-Low-V2-Beluga                 1490.0\n",
       "Adidas-Yeezy-Boost-350-V2-Beluga-2pt0                 840.0\n",
       "Adidas-Yeezy-Boost-350-V2-Blue-Tint                  2000.0\n",
       "Adidas-Yeezy-Boost-350-V2-Core-Black-Copper          1095.0\n",
       "Adidas-Yeezy-Boost-350-V2-Core-Black-Green            999.0\n",
       "Adidas-Yeezy-Boost-350-V2-Core-Black-Red             1575.0\n",
       "Adidas-Yeezy-Boost-350-V2-Core-Black-Red-2017        1515.0\n",
       "Adidas-Yeezy-Boost-350-V2-Core-Black-White           1100.0\n",
       "Adidas-Yeezy-Boost-350-V2-Cream-White                 773.0\n",
       "Adidas-Yeezy-Boost-350-V2-Semi-Frozen-Yellow         1825.0\n",
       "Adidas-Yeezy-Boost-350-V2-Sesame                      545.0\n",
       "Adidas-Yeezy-Boost-350-V2-Zebra                       899.0\n",
       "Air-Jordan-1-Retro-High-Off-White-Chicago            4050.0\n",
       "Air-Jordan-1-Retro-High-Off-White-University-Blue    3680.0\n",
       "Air-Jordan-1-Retro-High-Off-White-White              2950.0\n",
       "Nike-Air-Force-1-Low-Off-White                       1650.0\n",
       "Nike-Air-Force-1-Low-Off-White-Black-White            741.0\n",
       "Nike-Air-Force-1-Low-Off-White-Volt                   950.0\n",
       "Nike-Air-Force-1-Low-Virgil-Abloh-Off-White-AF100    1500.0\n",
       "Nike-Air-Max-90-Off-White                            2000.0\n",
       "Nike-Air-Max-90-Off-White-Black                       800.0\n",
       "Nike-Air-Max-90-Off-White-Desert-Ore                  765.0\n",
       "Nike-Air-Max-97-Off-White                            1300.0\n",
       "Nike-Air-Max-97-Off-White-Black                      1230.0\n",
       "Nike-Air-Max-97-Off-White-Elemental-Rose-Queen       1290.0\n",
       "Nike-Air-Max-97-Off-White-Menta                      1362.0\n",
       "Nike-Air-Presto-Off-White                            2160.0\n",
       "Nike-Air-Presto-Off-White-Black-2018                 1500.0\n",
       "Nike-Air-Presto-Off-White-White-2018                 2100.0\n",
       "Nike-Air-VaporMax-Off-White                          2399.0\n",
       "Nike-Air-VaporMax-Off-White-2018                     1400.0\n",
       "Nike-Air-VaporMax-Off-White-Black                    1500.0\n",
       "Nike-Blazer-Mid-Off-White                            1600.0\n",
       "Nike-Blazer-Mid-Off-White-All-Hallows-Eve            1200.0\n",
       "Nike-Blazer-Mid-Off-White-Grim-Reaper                 908.0\n",
       "Nike-Blazer-Mid-Off-White-Wolf-Grey                  1258.0\n",
       "Nike-React-Hyperdunk-2017-Flyknit-Off-White           900.0\n",
       "Nike-Zoom-Fly-Mercurial-Off-White-Black               600.0\n",
       "Nike-Zoom-Fly-Mercurial-Off-White-Total-Orange        648.0\n",
       "Nike-Zoom-Fly-Off-White                              1700.0\n",
       "Nike-Zoom-Fly-Off-White-Black-Silver                  598.0\n",
       "Nike-Zoom-Fly-Off-White-Pink                          561.0\n",
       "adidas-Yeezy-Boost-350-V2-Butter                      770.0\n",
       "adidas-Yeezy-Boost-350-V2-Static                      800.0\n",
       "adidas-Yeezy-Boost-350-V2-Static-Reflective          2000.0\n",
       "Name: sale_price, dtype: float64"
      ]
     },
     "execution_count": 10,
     "metadata": {},
     "output_type": "execute_result"
    }
   ],
   "source": [
    "data.groupby('sneaker_name')['sale_price'].max()"
   ]
  },
  {
   "cell_type": "code",
   "execution_count": 11,
   "id": "bf9c4d6e",
   "metadata": {},
   "outputs": [
    {
     "data": {
      "text/plain": [
       "sneaker_name\n",
       "Adidas-Yeezy-Boost-350-Low-Moonrock                   730.0\n",
       "Adidas-Yeezy-Boost-350-Low-Oxford-Tan                 741.0\n",
       "Adidas-Yeezy-Boost-350-Low-Pirate-Black-2015          721.0\n",
       "Adidas-Yeezy-Boost-350-Low-Pirate-Black-2016          675.0\n",
       "Adidas-Yeezy-Boost-350-Low-Turtledove                1042.0\n",
       "Adidas-Yeezy-Boost-350-Low-V2-Beluga                  528.0\n",
       "Adidas-Yeezy-Boost-350-V2-Beluga-2pt0                 200.0\n",
       "Adidas-Yeezy-Boost-350-V2-Blue-Tint                   286.0\n",
       "Adidas-Yeezy-Boost-350-V2-Core-Black-Copper           500.0\n",
       "Adidas-Yeezy-Boost-350-V2-Core-Black-Green            450.0\n",
       "Adidas-Yeezy-Boost-350-V2-Core-Black-Red              650.0\n",
       "Adidas-Yeezy-Boost-350-V2-Core-Black-Red-2017         636.0\n",
       "Adidas-Yeezy-Boost-350-V2-Core-Black-White            570.0\n",
       "Adidas-Yeezy-Boost-350-V2-Cream-White                 200.0\n",
       "Adidas-Yeezy-Boost-350-V2-Semi-Frozen-Yellow          210.0\n",
       "Adidas-Yeezy-Boost-350-V2-Sesame                      186.0\n",
       "Adidas-Yeezy-Boost-350-V2-Zebra                       256.0\n",
       "Air-Jordan-1-Retro-High-Off-White-Chicago             983.0\n",
       "Air-Jordan-1-Retro-High-Off-White-University-Blue     430.0\n",
       "Air-Jordan-1-Retro-High-Off-White-White              1400.0\n",
       "Nike-Air-Force-1-Low-Off-White                        385.0\n",
       "Nike-Air-Force-1-Low-Off-White-Black-White            310.0\n",
       "Nike-Air-Force-1-Low-Off-White-Volt                   275.0\n",
       "Nike-Air-Force-1-Low-Virgil-Abloh-Off-White-AF100     710.0\n",
       "Nike-Air-Max-90-Off-White                             450.0\n",
       "Nike-Air-Max-90-Off-White-Black                       392.0\n",
       "Nike-Air-Max-90-Off-White-Desert-Ore                  414.0\n",
       "Nike-Air-Max-97-Off-White                             421.0\n",
       "Nike-Air-Max-97-Off-White-Black                       513.0\n",
       "Nike-Air-Max-97-Off-White-Elemental-Rose-Queen        646.0\n",
       "Nike-Air-Max-97-Off-White-Menta                       627.0\n",
       "Nike-Air-Presto-Off-White                             750.0\n",
       "Nike-Air-Presto-Off-White-Black-2018                  500.0\n",
       "Nike-Air-Presto-Off-White-White-2018                  440.0\n",
       "Nike-Air-VaporMax-Off-White                           520.0\n",
       "Nike-Air-VaporMax-Off-White-2018                      430.0\n",
       "Nike-Air-VaporMax-Off-White-Black                     400.0\n",
       "Nike-Blazer-Mid-Off-White                             365.0\n",
       "Nike-Blazer-Mid-Off-White-All-Hallows-Eve             410.0\n",
       "Nike-Blazer-Mid-Off-White-Grim-Reaper                 361.0\n",
       "Nike-Blazer-Mid-Off-White-Wolf-Grey                   550.0\n",
       "Nike-React-Hyperdunk-2017-Flyknit-Off-White           336.0\n",
       "Nike-Zoom-Fly-Mercurial-Off-White-Black               238.0\n",
       "Nike-Zoom-Fly-Mercurial-Off-White-Total-Orange        203.0\n",
       "Nike-Zoom-Fly-Off-White                               300.0\n",
       "Nike-Zoom-Fly-Off-White-Black-Silver                  220.0\n",
       "Nike-Zoom-Fly-Off-White-Pink                          210.0\n",
       "adidas-Yeezy-Boost-350-V2-Butter                      190.0\n",
       "adidas-Yeezy-Boost-350-V2-Static                      222.0\n",
       "adidas-Yeezy-Boost-350-V2-Static-Reflective           300.0\n",
       "Name: sale_price, dtype: float64"
      ]
     },
     "execution_count": 11,
     "metadata": {},
     "output_type": "execute_result"
    }
   ],
   "source": [
    "data.groupby('sneaker_name')['sale_price'].min()"
   ]
  },
  {
   "cell_type": "markdown",
   "id": "ef8ce9d4",
   "metadata": {},
   "source": [
    "-------------------------------------------------------------------------------------------------------------\n",
    "Find the highest and lowest sales per sneaker brand."
   ]
  },
  {
   "cell_type": "code",
   "execution_count": 12,
   "id": "acc30b52",
   "metadata": {},
   "outputs": [
    {
     "data": {
      "text/plain": [
       "brand\n",
       " Yeezy       2300.0\n",
       "Off-White    4050.0\n",
       "Name: sale_price, dtype: float64"
      ]
     },
     "execution_count": 12,
     "metadata": {},
     "output_type": "execute_result"
    }
   ],
   "source": [
    "data.groupby('brand')['sale_price'].max()"
   ]
  },
  {
   "cell_type": "code",
   "execution_count": 13,
   "id": "a8974e7a",
   "metadata": {},
   "outputs": [
    {
     "data": {
      "text/plain": [
       "brand\n",
       " Yeezy       186.0\n",
       "Off-White    203.0\n",
       "Name: sale_price, dtype: float64"
      ]
     },
     "execution_count": 13,
     "metadata": {},
     "output_type": "execute_result"
    }
   ],
   "source": [
    "data.groupby('brand')['sale_price'].min()"
   ]
  },
  {
   "cell_type": "markdown",
   "id": "d190b9d0",
   "metadata": {},
   "source": [
    "-------------------------------------------------------------------------------------------------------------\n",
    "Now, find the average cost of the resale price per sneaker model."
   ]
  },
  {
   "cell_type": "code",
   "execution_count": 14,
   "id": "d9fb6086",
   "metadata": {},
   "outputs": [
    {
     "data": {
      "text/plain": [
       "sneaker_name\n",
       "Adidas-Yeezy-Boost-350-Low-Moonrock                   996.710000\n",
       "Adidas-Yeezy-Boost-350-Low-Oxford-Tan                1011.514286\n",
       "Adidas-Yeezy-Boost-350-Low-Pirate-Black-2015          895.094737\n",
       "Adidas-Yeezy-Boost-350-Low-Pirate-Black-2016          984.237705\n",
       "Adidas-Yeezy-Boost-350-Low-Turtledove                1531.661765\n",
       "Adidas-Yeezy-Boost-350-Low-V2-Beluga                  788.704819\n",
       "Adidas-Yeezy-Boost-350-V2-Beluga-2pt0                 400.439634\n",
       "Adidas-Yeezy-Boost-350-V2-Blue-Tint                   378.986125\n",
       "Adidas-Yeezy-Boost-350-V2-Core-Black-Copper           656.631111\n",
       "Adidas-Yeezy-Boost-350-V2-Core-Black-Green            622.801020\n",
       "Adidas-Yeezy-Boost-350-V2-Core-Black-Red              937.754967\n",
       "Adidas-Yeezy-Boost-350-V2-Core-Black-Red-2017         804.304438\n",
       "Adidas-Yeezy-Boost-350-V2-Core-Black-White            718.412238\n",
       "Adidas-Yeezy-Boost-350-V2-Cream-White                 288.708805\n",
       "Adidas-Yeezy-Boost-350-V2-Semi-Frozen-Yellow          390.586939\n",
       "Adidas-Yeezy-Boost-350-V2-Sesame                      264.068792\n",
       "Adidas-Yeezy-Boost-350-V2-Zebra                       361.272206\n",
       "Air-Jordan-1-Retro-High-Off-White-Chicago            1769.800000\n",
       "Air-Jordan-1-Retro-High-Off-White-University-Blue     850.853506\n",
       "Air-Jordan-1-Retro-High-Off-White-White              1826.070288\n",
       "Nike-Air-Force-1-Low-Off-White                        717.462185\n",
       "Nike-Air-Force-1-Low-Off-White-Black-White            512.127083\n",
       "Nike-Air-Force-1-Low-Off-White-Volt                   391.237488\n",
       "Nike-Air-Force-1-Low-Virgil-Abloh-Off-White-AF100     975.516129\n",
       "Nike-Air-Max-90-Off-White                             709.923445\n",
       "Nike-Air-Max-90-Off-White-Black                       552.785319\n",
       "Nike-Air-Max-90-Off-White-Desert-Ore                  532.542373\n",
       "Nike-Air-Max-97-Off-White                             664.290441\n",
       "Nike-Air-Max-97-Off-White-Black                       672.100346\n",
       "Nike-Air-Max-97-Off-White-Elemental-Rose-Queen        893.782407\n",
       "Nike-Air-Max-97-Off-White-Menta                       752.673469\n",
       "Nike-Air-Presto-Off-White                            1236.055369\n",
       "Nike-Air-Presto-Off-White-Black-2018                  730.469214\n",
       "Nike-Air-Presto-Off-White-White-2018                  634.391397\n",
       "Nike-Air-VaporMax-Off-White                           856.676190\n",
       "Nike-Air-VaporMax-Off-White-2018                      592.024513\n",
       "Nike-Air-VaporMax-Off-White-Black                     628.478294\n",
       "Nike-Blazer-Mid-Off-White                             695.475050\n",
       "Nike-Blazer-Mid-Off-White-All-Hallows-Eve             606.179791\n",
       "Nike-Blazer-Mid-Off-White-Grim-Reaper                 528.822604\n",
       "Nike-Blazer-Mid-Off-White-Wolf-Grey                   784.822917\n",
       "Nike-React-Hyperdunk-2017-Flyknit-Off-White           494.946281\n",
       "Nike-Zoom-Fly-Mercurial-Off-White-Black               354.133333\n",
       "Nike-Zoom-Fly-Mercurial-Off-White-Total-Orange        287.914634\n",
       "Nike-Zoom-Fly-Off-White                               534.816092\n",
       "Nike-Zoom-Fly-Off-White-Black-Silver                  316.691489\n",
       "Nike-Zoom-Fly-Off-White-Pink                          271.165563\n",
       "adidas-Yeezy-Boost-350-V2-Butter                      269.760571\n",
       "adidas-Yeezy-Boost-350-V2-Static                      287.066627\n",
       "adidas-Yeezy-Boost-350-V2-Static-Reflective           468.145101\n",
       "Name: sale_price, dtype: float64"
      ]
     },
     "execution_count": 14,
     "metadata": {},
     "output_type": "execute_result"
    }
   ],
   "source": [
    "data.groupby('sneaker_name')['sale_price'].mean()"
   ]
  },
  {
   "cell_type": "markdown",
   "id": "fa38108a",
   "metadata": {},
   "source": [
    "-------------------------------------------------------------------------------------------------------------\n",
    "Lastly, we can find the typical size purchased, and check for the most common bought sneaker model in each state, respectively."
   ]
  },
  {
   "cell_type": "code",
   "execution_count": 15,
   "id": "dfcfbf32",
   "metadata": {},
   "outputs": [
    {
     "data": {
      "text/plain": [
       "10.0    11093\n",
       "9.0      9706\n",
       "11.0     9251\n",
       "10.5     8784\n",
       "9.5      8685\n",
       "12.0     7297\n",
       "8.0      5363\n",
       "8.5      5300\n",
       "13.0     4602\n",
       "11.5     4502\n",
       "6.0      4013\n",
       "7.0      3867\n",
       "5.0      3577\n",
       "7.5      2664\n",
       "5.5      2621\n",
       "4.0      2241\n",
       "6.5      2219\n",
       "14.0     1791\n",
       "4.5      1304\n",
       "12.5      628\n",
       "13.5      147\n",
       "15.0      130\n",
       "14.5       84\n",
       "16.0       79\n",
       "17.0        4\n",
       "3.5         4\n",
       "Name: size, dtype: int64"
      ]
     },
     "execution_count": 15,
     "metadata": {},
     "output_type": "execute_result"
    }
   ],
   "source": [
    "data['size'].value_counts()"
   ]
  },
  {
   "cell_type": "code",
   "execution_count": 18,
   "id": "48c835c4",
   "metadata": {},
   "outputs": [
    {
     "data": {
      "text/plain": [
       "state\n",
       "Alabama                 adidas-Yeezy-Boost-350-V2-Static-Reflective\n",
       "Alaska                             adidas-Yeezy-Boost-350-V2-Static\n",
       "Arizona                 adidas-Yeezy-Boost-350-V2-Static-Reflective\n",
       "Arkansas                adidas-Yeezy-Boost-350-V2-Static-Reflective\n",
       "California              adidas-Yeezy-Boost-350-V2-Static-Reflective\n",
       "Colorado                adidas-Yeezy-Boost-350-V2-Static-Reflective\n",
       "Connecticut             adidas-Yeezy-Boost-350-V2-Static-Reflective\n",
       "Delaware                adidas-Yeezy-Boost-350-V2-Static-Reflective\n",
       "District of Columbia    adidas-Yeezy-Boost-350-V2-Static-Reflective\n",
       "Florida                 adidas-Yeezy-Boost-350-V2-Static-Reflective\n",
       "Georgia                 adidas-Yeezy-Boost-350-V2-Static-Reflective\n",
       "Hawaii                  adidas-Yeezy-Boost-350-V2-Static-Reflective\n",
       "Idaho                   adidas-Yeezy-Boost-350-V2-Static-Reflective\n",
       "Illinois                adidas-Yeezy-Boost-350-V2-Static-Reflective\n",
       "Indiana                 adidas-Yeezy-Boost-350-V2-Static-Reflective\n",
       "Iowa                    adidas-Yeezy-Boost-350-V2-Static-Reflective\n",
       "Kansas                  adidas-Yeezy-Boost-350-V2-Static-Reflective\n",
       "Kentucky                adidas-Yeezy-Boost-350-V2-Static-Reflective\n",
       "Louisiana               adidas-Yeezy-Boost-350-V2-Static-Reflective\n",
       "Maine                   adidas-Yeezy-Boost-350-V2-Static-Reflective\n",
       "Maryland                adidas-Yeezy-Boost-350-V2-Static-Reflective\n",
       "Massachusetts           adidas-Yeezy-Boost-350-V2-Static-Reflective\n",
       "Michigan                adidas-Yeezy-Boost-350-V2-Static-Reflective\n",
       "Minnesota               adidas-Yeezy-Boost-350-V2-Static-Reflective\n",
       "Mississippi             adidas-Yeezy-Boost-350-V2-Static-Reflective\n",
       "Missouri                adidas-Yeezy-Boost-350-V2-Static-Reflective\n",
       "Montana                 adidas-Yeezy-Boost-350-V2-Static-Reflective\n",
       "Nebraska                adidas-Yeezy-Boost-350-V2-Static-Reflective\n",
       "Nevada                  adidas-Yeezy-Boost-350-V2-Static-Reflective\n",
       "New Hampshire           adidas-Yeezy-Boost-350-V2-Static-Reflective\n",
       "New Jersey              adidas-Yeezy-Boost-350-V2-Static-Reflective\n",
       "New Mexico              adidas-Yeezy-Boost-350-V2-Static-Reflective\n",
       "New York                adidas-Yeezy-Boost-350-V2-Static-Reflective\n",
       "North Carolina          adidas-Yeezy-Boost-350-V2-Static-Reflective\n",
       "North Dakota            adidas-Yeezy-Boost-350-V2-Static-Reflective\n",
       "Ohio                    adidas-Yeezy-Boost-350-V2-Static-Reflective\n",
       "Oklahoma                adidas-Yeezy-Boost-350-V2-Static-Reflective\n",
       "Oregon                  adidas-Yeezy-Boost-350-V2-Static-Reflective\n",
       "Pennsylvania            adidas-Yeezy-Boost-350-V2-Static-Reflective\n",
       "Rhode Island            adidas-Yeezy-Boost-350-V2-Static-Reflective\n",
       "South Carolina          adidas-Yeezy-Boost-350-V2-Static-Reflective\n",
       "South Dakota                       adidas-Yeezy-Boost-350-V2-Static\n",
       "Tennessee               adidas-Yeezy-Boost-350-V2-Static-Reflective\n",
       "Texas                   adidas-Yeezy-Boost-350-V2-Static-Reflective\n",
       "Utah                    adidas-Yeezy-Boost-350-V2-Static-Reflective\n",
       "Vermont                            adidas-Yeezy-Boost-350-V2-Static\n",
       "Virginia                adidas-Yeezy-Boost-350-V2-Static-Reflective\n",
       "Washington              adidas-Yeezy-Boost-350-V2-Static-Reflective\n",
       "West Virginia           adidas-Yeezy-Boost-350-V2-Static-Reflective\n",
       "Wisconsin               adidas-Yeezy-Boost-350-V2-Static-Reflective\n",
       "Wyoming                            adidas-Yeezy-Boost-350-V2-Static\n",
       "Name: sneaker_name, dtype: object"
      ]
     },
     "execution_count": 18,
     "metadata": {},
     "output_type": "execute_result"
    }
   ],
   "source": [
    "data.groupby('state')['sneaker_name'].max()"
   ]
  },
  {
   "cell_type": "markdown",
   "id": "e8987605",
   "metadata": {},
   "source": [
    "# Visualizing the Dataset\n",
    "\n",
    "To visualize the data, we can utilize the seaborn package, which is data visualization library based from the matplotlib library."
   ]
  },
  {
   "cell_type": "code",
   "execution_count": 19,
   "id": "3a1d7807",
   "metadata": {},
   "outputs": [
    {
     "data": {
      "image/png": "[encoded data removed]",
      "text/plain": [
       "<Figure size 432x288 with 1 Axes>"
      ]
     },
     "metadata": {
      "needs_background": "light"
     },
     "output_type": "display_data"
    }
   ],
   "source": [
    "import seaborn as sns\n",
    "from matplotlib import pyplot as plt\n",
    "sns.countplot(x=\"brand\",\n",
    "    data=data,\n",
    "    color=\"red\")\n",
    "plt.title(\"Total Sales per Brand\")\n",
    "plt.show()"
   ]
  },
  {
   "cell_type": "markdown",
   "id": "90b56029",
   "metadata": {},
   "source": [
    "-------------------------------------------------------------------------------------------------------------\n",
    "Below, we can visualize sneaker sales by state, size and sneaker model."
   ]
  },
  {
   "cell_type": "code",
   "execution_count": 20,
   "id": "5ae6d5b5",
   "metadata": {},
   "outputs": [
    {
     "data": {
      "image/png": "[encoded data removed]",
      "text/plain": [
       "<Figure size 1080x432 with 1 Axes>"
      ]
     },
     "metadata": {
      "needs_background": "light"
     },
     "output_type": "display_data"
    },
    {
     "data": {
      "image/png": "[encoded data removed]",
      "text/plain": [
       "<Figure size 1080x432 with 1 Axes>"
      ]
     },
     "metadata": {
      "needs_background": "light"
     },
     "output_type": "display_data"
    },
    {
     "data": {
      "image/png": "[encoded data removed]",
      "text/plain": [
       "<Figure size 1080x432 with 1 Axes>"
      ]
     },
     "metadata": {
      "needs_background": "light"
     },
     "output_type": "display_data"
    }
   ],
   "source": [
    "data_cat = ['state','size','sneaker_name']\n",
    "for cat in data_cat:\n",
    "    cat_num = data[str(cat)].value_counts()\n",
    "    plt.figure(figsize=(15,6))\n",
    "    chart = sns.barplot(x = cat_num.index, y= cat_num)\n",
    "    chart.set_title(\"Sneakers Sales by %s\" % (cat))\n",
    "    plt.ylabel(\"Sneaker Sales\")\n",
    "    chart.set_xticklabels(chart.get_xticklabels(), rotation = 90)\n",
    "    plt.gca().xaxis.set_major_locator(plt.MultipleLocator(1))\n",
    "    plt.show(15)"
   ]
  }
 ],
 "metadata": {
  "kernelspec": {
   "display_name": "Python 3 (ipykernel)",
   "language": "python",
   "name": "python3"
  },
  "language_info": {
   "codemirror_mode": {
    "name": "ipython",
    "version": 3
   },
   "file_extension": ".py",
   "mimetype": "text/x-python",
   "name": "python",
   "nbconvert_exporter": "python",
   "pygments_lexer": "ipython3",
   "version": "3.9.7"
  }
 },
 "nbformat": 4,
 "nbformat_minor": 5
}
