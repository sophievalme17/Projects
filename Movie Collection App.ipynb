{
 "cells": [
  {
   "cell_type": "markdown",
   "id": "85873c28",
   "metadata": {},
   "source": [
    "## Movie Collection App\n",
    "\n",
    "With this code, a user will be able to add new movies to their collection to keep track of them and list all the movies in their collection to see what is already there. A user will also be able to search for a movie by its title easily for when the collection grows."
   ]
  },
  {
   "cell_type": "code",
   "execution_count": null,
   "id": "6d039ff8",
   "metadata": {},
   "outputs": [
    {
     "name": "stdout",
     "output_type": "stream",
     "text": [
      "Enter the movie title: Rush Hour\n",
      "Enter director's name: Brett Ratner\n",
      "Enter year of release: 1998\n"
     ]
    }
   ],
   "source": [
    "movies = []\n",
    "\n",
    "title = input(\"Enter the movie title: \")\n",
    "director = input(\"Enter director's name: \")\n",
    "year = input(\"Enter year of release: \")\n",
    "\n",
    "movies.append({\n",
    "    'title': title,\n",
    "    'director': director,\n",
    "    'year': year\n",
    "})\n",
    "\n",
    "MENU_PROMPT = \"\\nEnter 'a' to add a movie, 'l' too see your movies, 'f' to find a movie by title, or 'q' to quit: \"\n",
    "\n",
    "selection = input(MENU_PROMPT)\n",
    "while selection != 'q':\n",
    "    if selection == 'a':\n",
    "        pass\n",
    "    elif  selection == 'l':\n",
    "        pass\n",
    "    elif selction == 'f':\n",
    "        pass\n",
    "    else:\n",
    "        print(\"Unknown command. Please try again.\")\n",
    "    selection = input(MENU_PROMPT)"
   ]
  },
  {
   "cell_type": "code",
   "execution_count": null,
   "id": "1bdc771c",
   "metadata": {},
   "outputs": [],
   "source": []
  }
 ],
 "metadata": {
  "kernelspec": {
   "display_name": "Python 3 (ipykernel)",
   "language": "python",
   "name": "python3"
  },
  "language_info": {
   "codemirror_mode": {
    "name": "ipython",
    "version": 3
   },
   "file_extension": ".py",
   "mimetype": "text/x-python",
   "name": "python",
   "nbconvert_exporter": "python",
   "pygments_lexer": "ipython3",
   "version": "3.9.7"
  }
 },
 "nbformat": 4,
 "nbformat_minor": 5
}
